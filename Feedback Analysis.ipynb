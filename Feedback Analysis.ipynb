{
 "cells": [
  {
   "cell_type": "code",
   "execution_count": 1,
   "metadata": {},
   "outputs": [],
   "source": [
    "import numpy as np\n",
    "import pandas as pd\n",
    "import seaborn as sns\n",
    "import sklearn\n",
    "import scipy\n",
    "import matplotlib.pyplot as plt\n",
    "%matplotlib inline"
   ]
  },
  {
   "cell_type": "code",
   "execution_count": 2,
   "metadata": {},
   "outputs": [
    {
     "data": {
      "text/html": [
       "<div>\n",
       "<style scoped>\n",
       "    .dataframe tbody tr th:only-of-type {\n",
       "        vertical-align: middle;\n",
       "    }\n",
       "\n",
       "    .dataframe tbody tr th {\n",
       "        vertical-align: top;\n",
       "    }\n",
       "\n",
       "    .dataframe thead th {\n",
       "        text-align: right;\n",
       "    }\n",
       "</style>\n",
       "<table border=\"1\" class=\"dataframe\">\n",
       "  <thead>\n",
       "    <tr style=\"text-align: right;\">\n",
       "      <th></th>\n",
       "      <th>review</th>\n",
       "      <th>positive</th>\n",
       "    </tr>\n",
       "  </thead>\n",
       "  <tbody>\n",
       "    <tr>\n",
       "      <th>0</th>\n",
       "      <td>Wow... Loved this place.</td>\n",
       "      <td>1</td>\n",
       "    </tr>\n",
       "    <tr>\n",
       "      <th>1</th>\n",
       "      <td>Crust is not good.</td>\n",
       "      <td>0</td>\n",
       "    </tr>\n",
       "    <tr>\n",
       "      <th>2</th>\n",
       "      <td>Not tasty and the texture was just nasty.</td>\n",
       "      <td>0</td>\n",
       "    </tr>\n",
       "    <tr>\n",
       "      <th>3</th>\n",
       "      <td>Stopped by during the late May bank holiday of...</td>\n",
       "      <td>1</td>\n",
       "    </tr>\n",
       "    <tr>\n",
       "      <th>4</th>\n",
       "      <td>The selection on the menu was great and so wer...</td>\n",
       "      <td>1</td>\n",
       "    </tr>\n",
       "  </tbody>\n",
       "</table>\n",
       "</div>"
      ],
      "text/plain": [
       "                                              review  positive\n",
       "0                           Wow... Loved this place.         1\n",
       "1                                 Crust is not good.         0\n",
       "2          Not tasty and the texture was just nasty.         0\n",
       "3  Stopped by during the late May bank holiday of...         1\n",
       "4  The selection on the menu was great and so wer...         1"
      ]
     },
     "metadata": {},
     "output_type": "display_data"
    }
   ],
   "source": [
    "yelp = pd.read_csv('yelp_labelled.txt', delimiter= '\\t', header=None)\n",
    "yelp.columns = ['review', 'positive']\n",
    "display(yelp.head())"
   ]
  },
  {
   "cell_type": "code",
   "execution_count": 3,
   "metadata": {},
   "outputs": [],
   "source": [
    "yelp['positive'] = (yelp['positive'] == 1)"
   ]
  },
  {
   "cell_type": "code",
   "execution_count": 4,
   "metadata": {},
   "outputs": [],
   "source": [
    "yelp['review'] = yelp.review.str.replace(r'[^a-zA-Z\\d\\s:]', '')\n",
    "yelp['review'] = yelp['review'].str.lower()"
   ]
  },
  {
   "cell_type": "code",
   "execution_count": 5,
   "metadata": {},
   "outputs": [],
   "source": [
    "# split negative messages and combine into one list\n",
    "positive_words = yelp.review[yelp.positive].str.cat(sep=' ').split()\n",
    "\n",
    "negative_words = yelp.review[yelp.positive == False].str.cat(sep=' ').split()"
   ]
  },
  {
   "cell_type": "code",
   "execution_count": 6,
   "metadata": {},
   "outputs": [
    {
     "data": {
      "text/plain": [
       "1397"
      ]
     },
     "execution_count": 6,
     "metadata": {},
     "output_type": "execute_result"
    }
   ],
   "source": [
    "len(np.unique(negative_words))"
   ]
  },
  {
   "cell_type": "code",
   "execution_count": 7,
   "metadata": {},
   "outputs": [
    {
     "data": {
      "text/plain": [
       "1246"
      ]
     },
     "execution_count": 7,
     "metadata": {},
     "output_type": "execute_result"
    }
   ],
   "source": [
    "len(np.unique(positive_words))"
   ]
  },
  {
   "cell_type": "code",
   "execution_count": 8,
   "metadata": {},
   "outputs": [
    {
     "data": {
      "text/plain": [
       "array(['the', 'and', 'was', ..., 'company', 'almost', 'speedy'],\n",
       "      dtype=object)"
      ]
     },
     "execution_count": 8,
     "metadata": {},
     "output_type": "execute_result"
    }
   ],
   "source": [
    "keywords = pd.Series(positive_words).value_counts().keys().ravel()\n",
    "\n",
    "keywords"
   ]
  },
  {
   "cell_type": "code",
   "execution_count": 9,
   "metadata": {},
   "outputs": [
    {
     "data": {
      "text/plain": [
       "array(['2007', '23', '6', '7', '70', 'absolute', 'absolutley', 'accident',\n",
       "       'accommodations', 'accomodate', 'accordingly', 'across', 'added',\n",
       "       'affordable', 'afternoon', 'airport', 'almonds', 'amazingrge',\n",
       "       'ambience', 'ample', 'andddd', 'app', 'appetizers', 'approval',\n",
       "       'aria', 'array', 'assure', 'atmosphere1', 'auju', 'awesome',\n",
       "       'ayce', 'az', 'baba', 'bacon', 'baklava', 'bank', 'bargain',\n",
       "       'bartender', 'bartenders', 'baseball', 'bbq', 'bean', 'beateous',\n",
       "       'beautiful', 'beautifully', 'beauty', 'beers', 'bellies', 'belly',\n",
       "       'biscuit', 'bits', 'blanket', 'block', 'bloddy', 'blue', 'bone',\n",
       "       'booksomethats', 'bowl', 'boxes', 'boyfriend', 'boys', 'bread',\n",
       "       'breakfastlunch', 'breeze', 'brick', 'brings', 'bruschetta',\n",
       "       'buffets', 'buldogis', 'bunch', 'butter', 'caballeros', 'caesar',\n",
       "       'caf', 'cakeohhh', 'calligraphy', 'cannoli', 'cape', 'capers',\n",
       "       'caring', 'carpaccio', 'case', 'cavier', 'chai', 'charming',\n",
       "       'cheek', 'cheesecurds', 'chef', 'chefs', 'chickenwith', 'chinese',\n",
       "       'chipotle', 'choose', 'choux', 'chow', 'claimed', 'classic',\n",
       "       'classywarm', 'club', 'cocktail', 'cocktails', 'cod', 'colder',\n",
       "       'combos', 'comfortable', 'companions', 'compliments',\n",
       "       'conclusion:', 'condiment', 'containers', 'continue', 'cool',\n",
       "       'corn', 'cotta', 'couples', 'court', 'courteous', 'cover',\n",
       "       'covered', 'coziness', 'cramming', 'cranberrymmmm', 'craving',\n",
       "       'crawfish', 'creamy', 'crema', 'crepe', 'crisp', 'crispy',\n",
       "       'croutons', 'crowds', 'crpe', 'crystals', 'customize', 'cute',\n",
       "       'daily', 'dark', 'date', 'dates', 'daughter', 'dead', 'decide',\n",
       "       'decision', 'decor', 'decorated', 'def', 'definately', 'degree',\n",
       "       'delicate', 'delicioso', 'delicious', 'deliciously', 'delight',\n",
       "       'delightful', 'delights', 'delish', 'dessert:', 'devine', 'die',\n",
       "       'dinners', 'disappoint', 'discount', 'dispenser', 'diverse',\n",
       "       'donut', 'dos', 'dough', 'dreamed', 'drenched', 'driving', 'duck',\n",
       "       'dude', 'duo', 'dusted', 'dylan', 'eclectic', 'efficient',\n",
       "       'eggplant', 'elegantly', 'email', 'enjoyable', 'enjoyed',\n",
       "       'enthusiastic', 'etc', 'ethic', 'event', 'events', 'exactly',\n",
       "       'exceeding', 'excellent', 'exceptional', 'expanded',\n",
       "       'expectations', 'experienced', 'expertconnisseur', 'exquisite',\n",
       "       'extensive', 'extra', 'extraordinary', 'eyed', 'fabulous',\n",
       "       'falafels', 'fantastic', 'fav', 'favorite', 'feeling', 'feels',\n",
       "       'fianc', 'fillet', 'fine', 'finger', 'firehouse', 'flair',\n",
       "       'flavored', 'flavorful', 'flavors', 'flavourful', 'flirting',\n",
       "       'fluffy', 'fo', 'four', 'francisco', 'free', 'frenchman', 'fruit',\n",
       "       'fry', 'fs', 'fun', 'funny', 'further', 'fuzzy', 'ganoush', 'gc',\n",
       "       'gem', 'generous', 'genuinely', 'gets', 'giant', 'giving', 'glad',\n",
       "       'glance', 'gluten', 'goat', 'goldencrispy', 'gooodd', 'gourmet',\n",
       "       'gratuity', 'great', 'greek', 'greeted', 'grilled', 'gringos',\n",
       "       'group', 'groups', 'guest', 'guys', 'halibut', 'han', 'handed',\n",
       "       'handled', 'handling', 'handmade', 'handsdown', 'hankering',\n",
       "       'happier', 'happy', 'hardest', 'haunt', 'havent', 'hawaiian',\n",
       "       'healthy', 'held', 'hella', 'hereas', 'hes', 'highlight',\n",
       "       'highlighted', 'highlights', 'highquality', 'hip', 'hiro', 'hits',\n",
       "       'hole', 'holiday', 'homemade', 'hooked', 'hoping', 'hottest',\n",
       "       'hummus', 'hungry', 'iced', 'imaginative', 'impeccable',\n",
       "       'included', 'including', 'incredible', 'incredibly', 'inexpensive',\n",
       "       'informative', 'inhouse', 'insanely', 'interesting', 'interior',\n",
       "       'inviting', 'ironman', 'italian', 'item', 'itfriendly', 'itll',\n",
       "       'jalapeno', 'jamaican', 'japanese', 'jeff', 'jewel', 'join',\n",
       "       'joint', 'joy', 'juries', 'khao', 'kiddos', 'killer', 'ladies',\n",
       "       'larger', 'las', 'lastly', 'latte', 'lawyers', 'legit', 'lemon',\n",
       "       'less', 'letting', 'level', 'light', 'lighter', 'lighting',\n",
       "       'lightly', 'likes', 'lil', 'listed', 'living', 'located', 'lordy',\n",
       "       'lots', 'loved', 'lovely', 'loves', 'loving', 'lowkey', 'lox',\n",
       "       'macarons', 'madison', 'magic', 'maine', 'maintaining', 'mandalay',\n",
       "       'mango', 'maria', 'marrow', 'marys', 'massive', 'mayo', 'meatloaf',\n",
       "       'meats', 'mediterranean', 'meet', 'meeverything', 'mein', 'melt',\n",
       "       'memory', 'mention', 'menus', 'mesquite', 'metro', 'mexican',\n",
       "       'mgm', 'middle', 'military', 'miss', 'missed', 'mixed', 'mmmm',\n",
       "       'modern', 'moist', 'mojitos', 'moms', 'monster', 'months', 'mood',\n",
       "       'mouth', 'mouthful', 'mouths', 'moz', 'mozzarella', 'ms',\n",
       "       'multigrain', 'mushrooms', 'mussels', 'muststop', 'naan', 'nan',\n",
       "       'nargile', 'nay', 'nearly', 'nicest', 'nigiri', 'nobu', 'nonfancy',\n",
       "       'north', 'nut', 'nyc', 'occasional', 'omelets', 'omg', 'onion',\n",
       "       'opinion', 'opposed', 'options', 'original', 'otto', 'ourselves',\n",
       "       'outdoor', 'outrageously', 'outshining', 'outstanding', 'oven',\n",
       "       'overwhelm', 'ownerchef', 'pack', 'pancake', 'panna', 'paper',\n",
       "       'party', 'past', 'pastas', 'pastry', 'patio', 'pats', 'peach',\n",
       "       'peanut', 'pears', 'peas', 'pecan', 'penne', 'pepper', 'perfect',\n",
       "       'perfection', 'perfectly', 'performed', 'perpared', 'personable',\n",
       "       'personally', 'petty', 'phenomenal', 'philadelphia', 'piano',\n",
       "       'pictures', 'pine', 'pineapple', 'pink', 'pita', 'plastic',\n",
       "       'platter', 'playing', 'pleased', 'pleasure', 'plethora', 'plus',\n",
       "       'pneumatic', 'portion', 'positive', 'powdered', 'power', 'prefer',\n",
       "       'prepared', 'priced', 'pricey', 'prime', 'professional',\n",
       "       'profiterole', 'prompt', 'promptly', 'pros', 'proven', 'provided',\n",
       "       'provides', 'providing', 'public', 'pumpkin', 'puree', 'put',\n",
       "       'quaint', 'quantity', 'raspberry', 'ravoli', 'reasonable',\n",
       "       'reasonably', 'receives', 'recommendation', 'redeeming',\n",
       "       'reduction', 'refreshing', 'regular', 'regularly', 'relax',\n",
       "       'relaxed', 'relleno', 'reminded', 'reminds', 'requested',\n",
       "       'returned', 'rib', 'ribeye', 'rich', 'rick', 'rightthe', 'rings',\n",
       "       'roll', 'rotating', 'round', 'rowdy', 's', 'saffron', 'salads',\n",
       "       'sals', 'salty', 'sample', 'san', 'sandwiches', 'satifying',\n",
       "       'satisfied', 'satisfying', 'saving', 'scottsdale', 'screams',\n",
       "       'seal', 'seasonal', 'seasoned', 'seasoning', 'second', 'section',\n",
       "       'selections', 'sergeant', 'serivce', 'serve', 'service:',\n",
       "       'servicecheck', 'sexy', 'shawarrrrrrma', 'shirt', 'shopping',\n",
       "       'shops', 'simple', 'sitdown', 'skimp', 'slaw', 'slices', 'smooth',\n",
       "       'smoothies', 'soi', 'solid', 'son', 'songs', 'soooo', 'sooooo',\n",
       "       'soundtrack', 'soups', 'sour', 'southwest', 'space', 'specials',\n",
       "       'speedy', 'spice', 'spicier', 'sporting', 'spot', 'spring',\n",
       "       'steaks', 'steiners', 'steve', 'sticks', 'stop', 'stopped',\n",
       "       'strawberry', 'street', 'stuff', 'stuffed', 'succulent', 'sugar',\n",
       "       'suggestions', 'summarize', 'summer', 'sun', 'sunday',\n",
       "       'sunglasses', 'supposed', 'surprise', 't', 'takeout', 'tapas',\n",
       "       'tartar', 'tartare', 'tastings', 'tater', 'teamwork', 'tender',\n",
       "       'terrific', 'thanks', 'theyre', 'thick', 'thinly', 'thrilled',\n",
       "       'thus', 'tigerlilly', 'tiny', 'tiramisu', 'toast', 'together',\n",
       "       'togo', 'tongue', 'top', 'topic', 'topvery', 'toro', 'tots',\n",
       "       'touch', 'town', 'transcendant', 'treat', 'tribute', 'trimmed',\n",
       "       'trips', 'truffle', 'truly', 'tucson', 'tummy', 'tvs', 'typical',\n",
       "       'unbelievable', 'unbelievably', 'unique', 'unreal', 'until',\n",
       "       'updatewent', 'upway', 'usual', 'vanilla', 'veganveggie',\n",
       "       'veggitarian', 'velvet', 'venture', 'venturing', 'venue', 'via',\n",
       "       'vinaigrette', 'violinists', 'visit', 'visited', 'vodka', 'voodoo',\n",
       "       'wagyu', 'waitresses', 'walls', 'watch', 'ways', 'wed', 'week',\n",
       "       'weekly', 'welcome', 'whenever', 'white', 'wide', 'wines',\n",
       "       'winner', 'wish', 'wonderful', 'wontons', 'words', 'world', 'wow',\n",
       "       'wrapped', 'wrong', 'yellow', 'yellowtail', 'youd', 'youll',\n",
       "       'youre', 'yukon'], dtype=object)"
      ]
     },
     "execution_count": 9,
     "metadata": {},
     "output_type": "execute_result"
    }
   ],
   "source": [
    "diff = np.setdiff1d(\n",
    "        ar1=pd.Series(positive_words).value_counts().keys().ravel(), \n",
    "                      ar2=pd.Series(negative_words).value_counts().keys().ravel()\n",
    "                     )\n",
    "diff"
   ]
  },
  {
   "cell_type": "code",
   "execution_count": 10,
   "metadata": {},
   "outputs": [],
   "source": [
    "new = yelp\n",
    "keywords = diff\n",
    "\n",
    "for key in keywords:\n",
    "    # Note that we add spaces around the key so that we're getting the word,\n",
    "    # not just pattern matching.\n",
    "    new[str(key)] = new.review.str.contains(\n",
    "        ' ' + str(key) + ' ',\n",
    "        case=False\n",
    "    )"
   ]
  },
  {
   "cell_type": "code",
   "execution_count": 11,
   "metadata": {},
   "outputs": [],
   "source": [
    "data = new[keywords]\n",
    "target = new['positive']"
   ]
  },
  {
   "cell_type": "code",
   "execution_count": 12,
   "metadata": {},
   "outputs": [
    {
     "name": "stdout",
     "output_type": "stream",
     "text": [
      "Number of mislabeled points out of a total 1000 points : 1\n",
      "Accuracy: 99.9%\n"
     ]
    }
   ],
   "source": [
    "from sklearn.naive_bayes import BernoulliNB\n",
    "\n",
    "bnb = BernoulliNB()\n",
    "\n",
    "bnb.fit(data, target)\n",
    "\n",
    "y_pred = bnb.predict(data)\n",
    "\n",
    "print(\"Number of mislabeled points out of a total {} points : {}\\nAccuracy: {}%\".format(\n",
    "    data.shape[0],\n",
    "    (target != y_pred).sum(), round((1 - (target != y_pred).sum()/data.shape[0]) * 100, 2)\n",
    "))"
   ]
  },
  {
   "cell_type": "code",
   "execution_count": 13,
   "metadata": {},
   "outputs": [
    {
     "data": {
      "text/html": [
       "<div>\n",
       "<style scoped>\n",
       "    .dataframe tbody tr th:only-of-type {\n",
       "        vertical-align: middle;\n",
       "    }\n",
       "\n",
       "    .dataframe tbody tr th {\n",
       "        vertical-align: top;\n",
       "    }\n",
       "\n",
       "    .dataframe thead th {\n",
       "        text-align: right;\n",
       "    }\n",
       "</style>\n",
       "<table border=\"1\" class=\"dataframe\">\n",
       "  <thead>\n",
       "    <tr style=\"text-align: right;\">\n",
       "      <th></th>\n",
       "      <th>review</th>\n",
       "      <th>positive</th>\n",
       "    </tr>\n",
       "  </thead>\n",
       "  <tbody>\n",
       "    <tr>\n",
       "      <th>0</th>\n",
       "      <td>A very, very, very slow-moving, aimless movie ...</td>\n",
       "      <td>0</td>\n",
       "    </tr>\n",
       "    <tr>\n",
       "      <th>1</th>\n",
       "      <td>Not sure who was more lost - the flat characte...</td>\n",
       "      <td>0</td>\n",
       "    </tr>\n",
       "    <tr>\n",
       "      <th>2</th>\n",
       "      <td>Attempting artiness with black &amp; white and cle...</td>\n",
       "      <td>0</td>\n",
       "    </tr>\n",
       "    <tr>\n",
       "      <th>3</th>\n",
       "      <td>Very little music or anything to speak of.</td>\n",
       "      <td>0</td>\n",
       "    </tr>\n",
       "    <tr>\n",
       "      <th>4</th>\n",
       "      <td>The best scene in the movie was when Gerardo i...</td>\n",
       "      <td>1</td>\n",
       "    </tr>\n",
       "  </tbody>\n",
       "</table>\n",
       "</div>"
      ],
      "text/plain": [
       "                                              review  positive\n",
       "0  A very, very, very slow-moving, aimless movie ...         0\n",
       "1  Not sure who was more lost - the flat characte...         0\n",
       "2  Attempting artiness with black & white and cle...         0\n",
       "3       Very little music or anything to speak of.           0\n",
       "4  The best scene in the movie was when Gerardo i...         1"
      ]
     },
     "metadata": {},
     "output_type": "display_data"
    }
   ],
   "source": [
    "imdb = pd.read_csv('imdb_labelled.txt', delimiter= '\\t', header=None)\n",
    "imdb.columns = ['review', 'positive']\n",
    "display(imdb.head())"
   ]
  },
  {
   "cell_type": "code",
   "execution_count": 14,
   "metadata": {},
   "outputs": [],
   "source": [
    "imdb['positive'] = (imdb['positive'] == 1)\n",
    "\n",
    "imdb['review'] = imdb.review.str.replace(r'[^a-zA-Z\\d\\s:]', '')\n",
    "imdb['review'] = imdb['review'].str.lower()\n",
    "\n",
    "# split negative messages and combine into one list\n",
    "ipositive_words = imdb.review[imdb.positive].str.cat(sep=' ').split()\n",
    "\n",
    "inegative_words = imdb.review[imdb.positive == False].str.cat(sep=' ').split()"
   ]
  },
  {
   "cell_type": "code",
   "execution_count": 15,
   "metadata": {},
   "outputs": [
    {
     "data": {
      "text/plain": [
       "array(['1010', '12', '15', ..., 'yelps', 'younger', 'zombie'],\n",
       "      dtype=object)"
      ]
     },
     "execution_count": 15,
     "metadata": {},
     "output_type": "execute_result"
    }
   ],
   "source": [
    "ikeywords = pd.Series(inegative_words).value_counts().keys().ravel()\n",
    "\n",
    "idiff = np.setdiff1d(\n",
    "        ar1=pd.Series(ipositive_words).value_counts().keys().ravel(), \n",
    "                      ar2=pd.Series(inegative_words).value_counts().keys().ravel()\n",
    "                     )\n",
    "idiff"
   ]
  },
  {
   "cell_type": "code",
   "execution_count": 16,
   "metadata": {},
   "outputs": [
    {
     "name": "stdout",
     "output_type": "stream",
     "text": [
      "Number of mislabeled points out of a total 748 points : 2\n",
      "Accuracy: 99.73%\n"
     ]
    }
   ],
   "source": [
    "new = imdb\n",
    "keywords = idiff\n",
    "\n",
    "for key in keywords:\n",
    "    # Note that we add spaces around the key so that we're getting the word,\n",
    "    # not just pattern matching.\n",
    "    new[str(key)] = new.review.str.contains(\n",
    "        ' ' + str(key) + ' ',\n",
    "        case=False\n",
    "    )\n",
    "\n",
    "data = new[keywords]\n",
    "target = new['positive']\n",
    "\n",
    "from sklearn.naive_bayes import BernoulliNB\n",
    "\n",
    "bnb = BernoulliNB()\n",
    "\n",
    "bnb.fit(data, target)\n",
    "\n",
    "y_pred = bnb.predict(data)\n",
    "\n",
    "print(\"Number of mislabeled points out of a total {} points : {}\\nAccuracy: {}%\".format(\n",
    "    data.shape[0],\n",
    "    (target != y_pred).sum(), round((1 - (target != y_pred).sum()/data.shape[0]) * 100, 2)\n",
    "))"
   ]
  },
  {
   "cell_type": "code",
   "execution_count": 17,
   "metadata": {},
   "outputs": [
    {
     "data": {
      "text/html": [
       "<div>\n",
       "<style scoped>\n",
       "    .dataframe tbody tr th:only-of-type {\n",
       "        vertical-align: middle;\n",
       "    }\n",
       "\n",
       "    .dataframe tbody tr th {\n",
       "        vertical-align: top;\n",
       "    }\n",
       "\n",
       "    .dataframe thead th {\n",
       "        text-align: right;\n",
       "    }\n",
       "</style>\n",
       "<table border=\"1\" class=\"dataframe\">\n",
       "  <thead>\n",
       "    <tr style=\"text-align: right;\">\n",
       "      <th></th>\n",
       "      <th>review</th>\n",
       "      <th>positive</th>\n",
       "    </tr>\n",
       "  </thead>\n",
       "  <tbody>\n",
       "    <tr>\n",
       "      <th>0</th>\n",
       "      <td>So there is no way for me to plug it in here i...</td>\n",
       "      <td>0</td>\n",
       "    </tr>\n",
       "    <tr>\n",
       "      <th>1</th>\n",
       "      <td>Good case, Excellent value.</td>\n",
       "      <td>1</td>\n",
       "    </tr>\n",
       "    <tr>\n",
       "      <th>2</th>\n",
       "      <td>Great for the jawbone.</td>\n",
       "      <td>1</td>\n",
       "    </tr>\n",
       "    <tr>\n",
       "      <th>3</th>\n",
       "      <td>Tied to charger for conversations lasting more...</td>\n",
       "      <td>0</td>\n",
       "    </tr>\n",
       "    <tr>\n",
       "      <th>4</th>\n",
       "      <td>The mic is great.</td>\n",
       "      <td>1</td>\n",
       "    </tr>\n",
       "  </tbody>\n",
       "</table>\n",
       "</div>"
      ],
      "text/plain": [
       "                                              review  positive\n",
       "0  So there is no way for me to plug it in here i...         0\n",
       "1                        Good case, Excellent value.         1\n",
       "2                             Great for the jawbone.         1\n",
       "3  Tied to charger for conversations lasting more...         0\n",
       "4                                  The mic is great.         1"
      ]
     },
     "metadata": {},
     "output_type": "display_data"
    }
   ],
   "source": [
    "amazon = pd.read_csv('amazon_cells_labelled.txt', delimiter= '\\t', header=None)\n",
    "amazon.columns = ['review', 'positive']\n",
    "display(amazon.head())"
   ]
  },
  {
   "cell_type": "code",
   "execution_count": 18,
   "metadata": {},
   "outputs": [],
   "source": [
    "amazon['positive'] = (amazon['positive'] == 1)\n",
    "\n",
    "amazon['review'] = amazon.review.str.replace(r'[^a-zA-Z\\d\\s:]', '')\n",
    "amazon['review'] = amazon['review'].str.lower()\n",
    "\n",
    "# split negative messages and combine into one list\n",
    "apositive_words = amazon.review[amazon.positive].str.cat(sep=' ').split()\n",
    "\n",
    "anegative_words = amazon.review[amazon.positive == False].str.cat(sep=' ').split()"
   ]
  },
  {
   "cell_type": "code",
   "execution_count": 19,
   "metadata": {},
   "outputs": [
    {
     "data": {
      "text/plain": [
       "array(['100', '12', '15', '18', '2000', '2005', '24', '2mp', '325', '350',\n",
       "       '42', '50', '5020', '510', '680', '7', '700w', '8530', ':', ':oh',\n",
       "       'able', 'ac', 'access', 'accessable', 'accessing', 'accompanied',\n",
       "       'according', 'activesync', 'adapters', 'additional', 'address',\n",
       "       'adorable', 'advertised', 'against', 'ago', 'alarm', 'allot',\n",
       "       'allows', 'alone', 'alot', 'aluminum', 'amazed', 'amazon', 'ample',\n",
       "       'ant', 'antiglare', 'anywhere', 'apart', 'appears', 'applifies',\n",
       "       'appointments', 'armband', 'arrival', 'arrived', 'attacked',\n",
       "       'attractive', 'authentic', 'autoanswer', 'available', 'awsome',\n",
       "       'background', 'bar', 'bargain', 'bars', 'batteries', 'battery',\n",
       "       'beat', 'beats', 'behing', 'belt', 'bitpim', 'blackberry',\n",
       "       'blacktop', 'blue', 'blueant', 'bluetooth', 'bluetoothmotorola',\n",
       "       'bluetooths', 'boot', 'bose', 'boy', 'brand', 'brilliant',\n",
       "       'browser', 'browsing', 'bt', 'bt250v', 'bubbling', 'build',\n",
       "       'bulky', 'buttons', 'cable', 'cables', 'canal', 'cancellation',\n",
       "       'cancelling', 'capability', 'capacity', 'car', 'carried',\n",
       "       'carries', 'carry', 'cat', 'catching', 'cds', 'cell', 'cellphone',\n",
       "       'cellular', 'center', 'cents', 'charge', 'charged', 'chargelife',\n",
       "       'charger', 'chargers', 'charging', 'cheaper', 'cheapy', 'china',\n",
       "       'christmas', 'clarity', 'classy', 'clear', 'clearer', 'clip',\n",
       "       'clipping', 'clips', 'clock', 'colleague', 'color', 'colors',\n",
       "       'combination', 'comfort', 'comfortable', 'comfortably',\n",
       "       'comfortible', 'communication', 'commuter', 'company',\n",
       "       'competitors', 'complaints', 'compliments', 'compromise',\n",
       "       'concrete', 'conditions', 'confortable', 'connect', 'connected',\n",
       "       'connection', 'construction', 'contacts', 'controls', 'convenient',\n",
       "       'conversation', 'copier', 'corded', 'coupon', 'crisp', 'curve',\n",
       "       'customer', 'cut', 'damage', 'data', 'date', 'decision',\n",
       "       'deffinitely', 'definitly', 'delivery', 'described', 'description',\n",
       "       'design', 'destroying', 'detachable', 'detailed', 'development',\n",
       "       'device', 'devices', 'dialing', 'directly', 'display',\n",
       "       'distracting', 'division', 'docking', 'download', 'downloading',\n",
       "       'dozens', 'driving', 'droid', 'drops', 'dualpurpose', 'durable',\n",
       "       'ear', 'earbud', 'eargels', 'earphones', 'earpiece', 'earpieces',\n",
       "       'ears', 'earset', 'ease', 'easier', 'edge', 'effect', 'effective',\n",
       "       'effort', 'electronics', 'elegant', 'embedded', 'encourage',\n",
       "       'engineered', 'entertainment', 'equipment', 'era', 'ericson',\n",
       "       'everyday', 'exactly', 'exceeds', 'excelent', 'excels',\n",
       "       'exceptional', 'exchanged', 'excited', 'exclaim', 'existing',\n",
       "       'expensive', 'extended', 'exterior', 'extra', 'eye', 'faceplates',\n",
       "       'factor', 'fantastic', 'favorite', 'feature', 'feel', 'feels',\n",
       "       'figure', 'file', 'finds', 'fine', 'fingers', 'fire', 'fits',\n",
       "       'fixes', 'flash', 'flawless', 'flawlessly', 'flip', 'flipphones',\n",
       "       'fm', 'fraction', 'friendly', 'frog', 'fulfills', 'functional',\n",
       "       'functionality', 'functions', 'gadget', 'gadgets', 'geeky', 'gels',\n",
       "       'getting', 'glasses', 'glove', 'good4', 'good7', 'greatno', 'grey',\n",
       "       'grip', 'gx2', 'h500', 'hand', 'handheld', 'handset', 'handsfree',\n",
       "       'handy', 'happier', 'happy', 'hardly', 'haul', 'headbands',\n",
       "       'headphones', 'headset', 'headsets', 'helpful', 'hey', 'hitch',\n",
       "       'holding', 'holds', 'holster', 'hook', 'hs850', 'humming',\n",
       "       'hybrid', 'iam', 'ideal', 'igo', 'impressed', 'impressive',\n",
       "       'included', 'inconspicuous', 'increase', 'incrediable',\n",
       "       'infatuated', 'inside', 'install', 'installed', 'integrated',\n",
       "       'intended', 'internet', 'internetto', 'invented', 'investment',\n",
       "       'iphone', 'ipod', 'ipods', 'ir', 'iriver', 'issues', 'item',\n",
       "       'jabra', 'jabra350', 'jawbone', 'joy', 'juicehighy', 'jx10',\n",
       "       'keeping', 'kept', 'key', 'keyboard', 'keypad', 'kindle', 'knock',\n",
       "       'knows', 'krussel', 'lacking', 'landline', 'laptop', 'large',\n",
       "       'lasts', 'lately', 'leather', 'leopard', 'lg', 'lightly',\n",
       "       'lightweight', 'linked', 'linking', 'listener', 'lit', 'logitech',\n",
       "       'longwearing', 'looking', 'loop', 'loud', 'louder', 'loudest',\n",
       "       'loudglad', 'magical', 'maintains', 'managementoh', 'mark',\n",
       "       'market', 'mega', 'messages', 'metro', 'mic', 'microphone', 'mine',\n",
       "       'miniusb', 'mobile', 'modest', 'month', 'months', 'moto', 'motor',\n",
       "       'motorola', 'motorolas', 'neat', 'needshandsfree', 'nicely',\n",
       "       'noise', 'nokia', 'normal', 'nothingi', 'notice', 'numerous',\n",
       "       'nyc', 'o', 'oem', 'official', 'oozes', 'open', 'operate',\n",
       "       'optimal', 'options', 'order', 'ordered', 'ordering', 'orders',\n",
       "       'organizational', 'others', 'outgoing', 'outlet', 'outperform',\n",
       "       'outside', 'overly', 'overnight', 'overnite', 'owned', 'owneryou',\n",
       "       'owning', 'package', 'packaged', 'pad', 'pain', 'paired',\n",
       "       'pairing', 'palm', 'palms', 'palmtopcameracellphone', 'pants',\n",
       "       'patient', 'pc', 'pcs', 'pda', 'peachykeen', 'peeling', 'penny',\n",
       "       'performing', 'periods', 'phone', 'phones', 'phonesmp3',\n",
       "       'phonethe', 'pics', 'pixel', 'placed', 'plan', 'plantronics',\n",
       "       'plastic', 'players', 'pleasantly', 'pleased', 'plenty', 'plugs',\n",
       "       'plus', 'pocket', 'pockets', 'portable', 'portraits', 'posted',\n",
       "       'power', 'practical', 'premium', 'prettier', 'prevents',\n",
       "       'previous', 'price', 'priced', 'print', 'product', 'program',\n",
       "       'prompt', 'promptly', 'pros:good', 'protected', 'protection',\n",
       "       'protective', 'protector', 'protects', 'provides', 'ps3',\n",
       "       'psyched', 'purchase', 'purchased', 'purchases', 'purchasing', 'q',\n",
       "       'quick', 'quickly', 'quit', 'qwerty', 'range', 'rate', 'razr',\n",
       "       'read', 'realize', 'realworld', 'reasonably', 'rebootsoverall',\n",
       "       'reccomendation', 'received', 'reception', 'receptiona',\n",
       "       'receptionsound', 'recognition', 'red', 'regarding', 'relative',\n",
       "       'replace', 'replaceeasy', 'replacement', 'requirements',\n",
       "       'research', 'restored', 'rests', 'reversible', 'ride', 'ring',\n",
       "       'ringer', 'ringtones', 'roam', 'roles', 'rotating', 'run', 's11',\n",
       "       's710a', 'samsung', 'sanyo', 'satisfied', 'satisifed', 'saved',\n",
       "       'schr450', 'scratch', 'scratched', 'seamlessly', 'searched',\n",
       "       'seconds', 'secure', 'securely', 'self', 'seller', 'send',\n",
       "       'sending', 'sensitive', 'service', 'set', 'setup', 'sex', 'shape',\n",
       "       'sharp', 'shield', 'shifting', 'shine', 'shiny', 'shipment',\n",
       "       'shipped', 'shipping', 'shouldve', 'side', 'sides', 'sight',\n",
       "       'signal', 'signals', 'significantly', 'signs', 'simple', 'simpler',\n",
       "       'sister', 'situations:1', 'size', 'sizes', 'sketchy', 'skype',\n",
       "       'sleek', 'slide', 'slider', 'sliding', 'slim', 'slipping',\n",
       "       'smallest', 'smoother', 'smoothly', 'soft', 'software', 'sold',\n",
       "       'somewhat', 'sony', 'sooner', 'sos', 'sounded', 'sounds', 'source',\n",
       "       'span', 'speaker', 'specs', 'spinn', 'stars', 'state', 'static',\n",
       "       'station', 'stays', 'stereo', 'storage', 'stream', 'strip',\n",
       "       'stuff', 'sturdiness', 'sturdy', 'styles', 'styling', 'stylish',\n",
       "       'submerged', 'superb', 'supertooth', 'suprised', 'surefire',\n",
       "       'surprised', 'survived', 'sweetest', 'swivel', 'synchronization',\n",
       "       'technology', 'thank', 'thin', 'third', 'thru', 'thumbs', 'tight',\n",
       "       'timeframe', 'timely', 'tiny', 'tips', 'tmobile', 'toactivate',\n",
       "       'toast', 'toneoverall', 'tool', 'tools', 'tooth',\n",
       "       'tracfonewebsite', 'transceiver', 'transfer', 'transformed',\n",
       "       'transmission', 'transmit', 'transmitters', 'travled', 'treo',\n",
       "       'tried', 'tries', 'trouble', 'trunk', 'trythe', 'type', 'under',\n",
       "       'understanding', 'unlike', 'upandcoming', 'upbeat', 'usable',\n",
       "       'usage', 'usb', 'useful', 'usefulness', 'using', 'usually',\n",
       "       'v325i', 'verizon', 'via', 'video', 'virgin', 'voltage', 'volume',\n",
       "       'vx', 'w810i', 'walkman', 'wallet', 'wanted', 'waterproof', 'wear',\n",
       "       'web', 'websites', 'weeks', 'weight', 'welldesigned', 'wellit',\n",
       "       'wellwell', 'went', 'whoa', 'whose', 'wife', 'wifes', 'wild',\n",
       "       'windresistant', 'winner', 'wireless', 'wise', 'within', 'wood',\n",
       "       'wornout', 'worthwhile', 'yearsgreat', 'z500a'], dtype=object)"
      ]
     },
     "execution_count": 19,
     "metadata": {},
     "output_type": "execute_result"
    }
   ],
   "source": [
    "akeywords = pd.Series(anegative_words).value_counts().keys().ravel()\n",
    "\n",
    "adiff = np.setdiff1d(\n",
    "        ar1=pd.Series(apositive_words).value_counts().keys().ravel(), \n",
    "                      ar2=pd.Series(inegative_words).value_counts().keys().ravel()\n",
    "                     )\n",
    "adiff"
   ]
  },
  {
   "cell_type": "code",
   "execution_count": 20,
   "metadata": {},
   "outputs": [
    {
     "name": "stdout",
     "output_type": "stream",
     "text": [
      "Number of mislabeled points out of a total 1000 points : 303\n",
      "Accuracy: 69.7%\n"
     ]
    }
   ],
   "source": [
    "new = amazon\n",
    "keywords = adiff\n",
    "\n",
    "for key in keywords:\n",
    "    # Note that we add spaces around the key so that we're getting the word,\n",
    "    # not just pattern matching.\n",
    "    new[str(key)] = new.review.str.contains(\n",
    "        ' ' + str(key) + ' ',\n",
    "        case=False\n",
    "    )\n",
    "\n",
    "data = new[keywords]\n",
    "target = new['positive']\n",
    "\n",
    "from sklearn.naive_bayes import BernoulliNB\n",
    "\n",
    "bnb = BernoulliNB()\n",
    "\n",
    "bnb.fit(data, target)\n",
    "\n",
    "y_pred = bnb.predict(data)\n",
    "\n",
    "print(\"Number of mislabeled points out of a total {} points : {}\\nAccuracy: {}%\".format(\n",
    "    data.shape[0],\n",
    "    (target != y_pred).sum(), round((1 - (target != y_pred).sum()/data.shape[0]) * 100, 2)\n",
    "))"
   ]
  }
 ],
 "metadata": {
  "kernelspec": {
   "display_name": "Python 3",
   "language": "python",
   "name": "python3"
  },
  "language_info": {
   "codemirror_mode": {
    "name": "ipython",
    "version": 3
   },
   "file_extension": ".py",
   "mimetype": "text/x-python",
   "name": "python",
   "nbconvert_exporter": "python",
   "pygments_lexer": "ipython3",
   "version": "3.6.4"
  }
 },
 "nbformat": 4,
 "nbformat_minor": 2
}
